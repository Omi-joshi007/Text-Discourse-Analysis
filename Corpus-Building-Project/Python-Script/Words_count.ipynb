{
 "cells": [
  {
   "cell_type": "code",
   "execution_count": 10,
   "id": "55c90a4d-78eb-44d5-bf6a-39886dbb2b47",
   "metadata": {},
   "outputs": [
    {
     "name": "stdout",
     "output_type": "stream",
     "text": [
      "outputcorpus/2021-07-12-ATYOST-ATYOST0020210712eh7c0000g.txt\n",
      "File count 3513\n",
      "outputcorpus/2021-07-07-FBUNBM-FBUNBM0020210706eh7700008.txt\n",
      "File count 272\n",
      "Total words 3785\n"
     ]
    }
   ],
   "source": [
    "# import required module\n",
    "from pathlib import Path\n",
    " \n",
    "# assign directory\n",
    "directory = 'outputcorpus/'\n",
    " \n",
    "# iterate over files in\n",
    "# that directory\n",
    "total_words = 0\n",
    "files = Path(directory).glob('*.txt')\n",
    "for file in files:\n",
    "    print(file)\n",
    "    num_words = 0\n",
    "    with open(file, 'r') as f:\n",
    "        for line in f:\n",
    "            words = line.split()\n",
    "            num_words += len(words)\n",
    "    # print(\"Number of words:\")\n",
    "    print(\"File count\", num_words)\n",
    "    total_words=total_words+num_words\n",
    "print(\"Total words\", total_words)\n",
    "    "
   ]
  }
 ],
 "metadata": {
  "kernelspec": {
   "display_name": "Python 3 (ipykernel)",
   "language": "python",
   "name": "python3"
  },
  "language_info": {
   "codemirror_mode": {
    "name": "ipython",
    "version": 3
   },
   "file_extension": ".py",
   "mimetype": "text/x-python",
   "name": "python",
   "nbconvert_exporter": "python",
   "pygments_lexer": "ipython3",
   "version": "3.8.18"
  }
 },
 "nbformat": 4,
 "nbformat_minor": 5
}

{
 "cells": [
  {
   "cell_type": "code",
   "execution_count": 1,
   "id": "8dde7106-c226-43a6-9729-660de68b00e0",
   "metadata": {},
   "outputs": [
    {
     "name": "stdout",
     "output_type": "stream",
     "text": [
      "Defaulting to user installation because normal site-packages is not writeable\n",
      "Collecting youtube-transcript-api\n",
      "  Downloading youtube_transcript_api-0.6.2-py3-none-any.whl.metadata (15 kB)\n",
      "Requirement already satisfied: requests in /opt/miniconda/lib/python3.8/site-packages (from youtube-transcript-api) (2.31.0)\n",
      "Requirement already satisfied: charset-normalizer<4,>=2 in /opt/miniconda/lib/python3.8/site-packages (from requests->youtube-transcript-api) (3.3.2)\n",
      "Requirement already satisfied: idna<4,>=2.5 in /opt/miniconda/lib/python3.8/site-packages (from requests->youtube-transcript-api) (3.6)\n",
      "Requirement already satisfied: urllib3<3,>=1.21.1 in /opt/miniconda/lib/python3.8/site-packages (from requests->youtube-transcript-api) (2.2.1)\n",
      "Requirement already satisfied: certifi>=2017.4.17 in /opt/miniconda/lib/python3.8/site-packages (from requests->youtube-transcript-api) (2024.2.2)\n",
      "Downloading youtube_transcript_api-0.6.2-py3-none-any.whl (24 kB)\n",
      "Installing collected packages: youtube-transcript-api\n",
      "\u001b[33m  WARNING: The script youtube_transcript_api is installed in '/home/ojo35/.local/bin' which is not on PATH.\n",
      "  Consider adding this directory to PATH or, if you prefer to suppress this warning, use --no-warn-script-location.\u001b[0m\u001b[33m\n",
      "\u001b[0mSuccessfully installed youtube-transcript-api-0.6.2\n",
      "Note: you may need to restart the kernel to use updated packages.\n"
     ]
    }
   ],
   "source": [
    "pip install youtube-transcript-api"
   ]
  },
  {
   "cell_type": "code",
   "execution_count": null,
   "id": "0e13d907-b7fb-42cd-936d-4db5be59d0a9",
   "metadata": {},
   "outputs": [],
   "source": []
  },
  {
   "cell_type": "code",
   "execution_count": 5,
   "id": "971c4230-0134-4b43-87cf-0f5088ce8310",
   "metadata": {},
   "outputs": [
    {
     "name": "stdout",
     "output_type": "stream",
     "text": [
      "Transcript saved to youtubeScrape/COVID-19 and E Commerce.txt\n"
     ]
    }
   ],
   "source": [
    "from youtube_transcript_api import YouTubeTranscriptApi\n",
    "\n",
    "def scrape_transcript(video_id):\n",
    "    try:\n",
    "        transcript_list = YouTubeTranscriptApi.get_transcript(video_id)\n",
    "        transcript_text = \"\"\n",
    "        for segment in transcript_list:\n",
    "            transcript_text += segment['text'] + \" \"\n",
    "        return transcript_text\n",
    "    except Exception as e:\n",
    "        print(\"Error:\", e)\n",
    "        return None\n",
    "\n",
    "def save_transcript_to_file(transcript, file_name):\n",
    "    try:\n",
    "        with open(file_name, \"w\", encoding=\"utf-8\") as file:\n",
    "            file.write(transcript)\n",
    "        print(\"Transcript saved to\", file_name)\n",
    "    except Exception as e:\n",
    "        print(\"Error:\", e)\n",
    "\n",
    "# Example usage\n",
    "# You can find the video ID in the URL of the YouTube video after the ?v= part. \n",
    "# For example, if the video URL is https://www.youtube.com/watch?v=abcd1234, then the video ID is abcd1234.\n",
    "#video_id = \"5V-CFnY3IQ0\"\n",
    "video_id = \"jOnDkLKJQPc\"\n",
    "file_name= \"COVID-19 and E Commerce\"\n",
    "directory= \"youtubeScrape/\"\n",
    "transcript = scrape_transcript(video_id)\n",
    "if transcript:\n",
    "    save_transcript_to_file(transcript, directory+file_name+\".txt\")\n",
    "else:\n",
    "    print(\"Failed to fetch transcript.\")"
   ]
  },
  {
   "cell_type": "code",
   "execution_count": null,
   "id": "43be68f0-e79e-4df2-a362-ee88656e8959",
   "metadata": {},
   "outputs": [],
   "source": []
  }
 ],
 "metadata": {
  "kernelspec": {
   "display_name": "Python 3 (ipykernel)",
   "language": "python",
   "name": "python3"
  },
  "language_info": {
   "codemirror_mode": {
    "name": "ipython",
    "version": 3
   },
   "file_extension": ".py",
   "mimetype": "text/x-python",
   "name": "python",
   "nbconvert_exporter": "python",
   "pygments_lexer": "ipython3",
   "version": "3.8.18"
  }
 },
 "nbformat": 4,
 "nbformat_minor": 5
}
